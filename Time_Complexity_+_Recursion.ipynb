{
  "nbformat": 4,
  "nbformat_minor": 0,
  "metadata": {
    "colab": {
      "provenance": []
    },
    "kernelspec": {
      "name": "python3",
      "display_name": "Python 3"
    },
    "language_info": {
      "name": "python"
    }
  },
  "cells": [
    {
      "cell_type": "markdown",
      "source": [
        "**Find time complexity of below code blocks :**\n",
        "\n",
        " **Problem 1 :**"
      ],
      "metadata": {
        "id": "c9tiLa8Y4ugA"
      }
    },
    {
      "cell_type": "markdown",
      "source": [
        "def quicksort(arr):\n",
        "\n",
        "if len(arr) <= 1:\n",
        "\n",
        "return arr\n",
        "\n",
        "pivot = arr[len(arr) // 2]\n",
        "\n",
        "left = [x for x in arr if x < pivot]\n",
        "\n",
        "middle = [x for x in arr if x == pivot]\n",
        "\n",
        "right = [x for x in arr if x > pivot]\n",
        "\n",
        "return quicksort(left) + middle + quicksort(right)\n"
      ],
      "metadata": {
        "id": "OrXo7eXl5DMV"
      }
    },
    {
      "cell_type": "markdown",
      "source": [
        "**solution 1**\n",
        "\n",
        "The time complexity of the given QuickSort implementation as follows:\n",
        "\n",
        "Selecting the pivot: This operation takes O(1) time because it just involves accessing a single element from the array.\n",
        "\n",
        "Partitioning the array: This step has a time complexity of O(n), where n is the size of the input array.\n",
        "\n",
        "Recursion:  The recursion tree formed by these recursive calls has a height of log(n), where n is the size of the input array. At each level of the recursion tree, the total work done is O(n) because partitioning takes O(n) time. Therefore, the total time complexity contributed by recursion is O(n log n)."
      ],
      "metadata": {
        "id": "vNT2T_jU5RLR"
      }
    },
    {
      "cell_type": "markdown",
      "source": [
        "**Problem 2 :**"
      ],
      "metadata": {
        "id": "LUBagyV951bu"
      }
    },
    {
      "cell_type": "markdown",
      "source": [
        "def nested_loop_example(matrix):\n",
        "\n",
        "rows, cols = len(matrix), len(matrix[0])\n",
        "\n",
        "total = 0\n",
        "\n",
        "for i in range(rows):\n",
        "\n",
        "for j in range(cols):\n",
        "\n",
        "total += matrix[i][j]\n",
        "\n",
        "return total"
      ],
      "metadata": {
        "id": "KffJgz4X55qr"
      }
    },
    {
      "cell_type": "markdown",
      "source": [
        "**solution 2**\n",
        "\n",
        "The time complexity of the given nested loop can be analyzed as follows:\n",
        "\n",
        "The outer loop iterates over each row of the matrix, and the inner loop iterates over each column of the matrix.\n",
        "In each iteration of the inner loop, a constant-time operation (accessing a specific element of the matrix) is performed.\n",
        "The inner loop runs 'cols' times for each iteration of the outer loop, and the outer loop runs 'rows' times.\n",
        "Therefore, the total number of iterations of the inner loop is rows * cols."
      ],
      "metadata": {
        "id": "Y34SOzAB6J5J"
      }
    },
    {
      "cell_type": "markdown",
      "source": [
        "**Problem 3 :**"
      ],
      "metadata": {
        "id": "_QeNg8wd6dAX"
      }
    },
    {
      "cell_type": "markdown",
      "source": [
        "def example_function(arr):\n",
        "\n",
        "result = 0\n",
        "\n",
        "for element in arr:\n",
        "\n",
        "result += element\n",
        "\n",
        "return result"
      ],
      "metadata": {
        "id": "b8fAE27h6fZ-"
      }
    },
    {
      "cell_type": "markdown",
      "source": [
        "**solution 3**"
      ],
      "metadata": {
        "id": "bug_bg9s6tkv"
      }
    },
    {
      "cell_type": "markdown",
      "source": [
        "The function iterates over each element in the input array arr.\n",
        "\n",
        "The loop runs 'n' times, where 'n' is the length of the input array arr.\n",
        "\n",
        "Therefore, the overall time complexity of the function is O(n)"
      ],
      "metadata": {
        "id": "RhUBXp2u6yPM"
      }
    },
    {
      "cell_type": "markdown",
      "source": [
        "**Problem 4 :**"
      ],
      "metadata": {
        "id": "S8r7e1fc684M"
      }
    },
    {
      "cell_type": "markdown",
      "source": [
        "def longest_increasing_subsequence(nums):\n",
        "\n",
        "n = len(nums)\n",
        "\n",
        "lis = [1] * n\n",
        "\n",
        "for i in range(1, n):\n",
        "\n",
        "for j in range(0, i):\n",
        "\n",
        "if nums[i] > nums[j] and lis[i] < lis[j] + 1:\n",
        "\n",
        "lis[i] = lis[j] + 1\n",
        "\n",
        "return max(lis)\n"
      ],
      "metadata": {
        "id": "MC8VwSTr6_H5"
      }
    },
    {
      "cell_type": "markdown",
      "source": [
        "**solution 4**"
      ],
      "metadata": {
        "id": "h9u6hzXR7RQ_"
      }
    },
    {
      "cell_type": "markdown",
      "source": [
        "The overall time complexity of the function is O(n^2).\n",
        "\n",
        " Because the function iterates over each element in the input list 'nums'it consist two for loop so the time complexity is O(n^2)."
      ],
      "metadata": {
        "id": "dsydvHwL7Vd_"
      }
    },
    {
      "cell_type": "markdown",
      "source": [
        "**Problem 5 :**"
      ],
      "metadata": {
        "id": "JYR7GE1t77SL"
      }
    },
    {
      "cell_type": "markdown",
      "source": [
        "def mysterious_function(arr):\n",
        "\n",
        "n = len(arr)\n",
        "\n",
        "result = 0\n",
        "\n",
        "for i in range(n):\n",
        "\n",
        "for j in range(i, n):\n",
        "\n",
        "result += arr[i] * arr[j]\n",
        "\n",
        "return result"
      ],
      "metadata": {
        "id": "OcNKrM1y7-H6"
      }
    },
    {
      "cell_type": "markdown",
      "source": [
        "**solution 5**"
      ],
      "metadata": {
        "id": "gCTEDjZp8Cud"
      }
    },
    {
      "cell_type": "markdown",
      "source": [
        "The total number of iterations is:\n",
        "\n",
        "n + (n - 1) + (n - 2) + ... + 1 = n(n + 1) / 2\n",
        "\n",
        "This is a sum of the first 'n' natural numbers, which is O(n^2).\n",
        "\n",
        "So, the time complexity of the given code is O(n^2)"
      ],
      "metadata": {
        "id": "ZxDxd3Ni8Xif"
      }
    },
    {
      "cell_type": "markdown",
      "source": [
        "**Solve the following problems on recursion**"
      ],
      "metadata": {
        "id": "gqd-tOCa8M0f"
      }
    },
    {
      "cell_type": "markdown",
      "source": [
        "**Problem 6 : Sum of Digits**"
      ],
      "metadata": {
        "id": "IeYB8s568O6v"
      }
    },
    {
      "cell_type": "markdown",
      "source": [
        "Write a recursive function to calculate the sum of digits of a given positive integer.\n",
        "\n",
        "sum_of_digits(123) -> 6"
      ],
      "metadata": {
        "id": "sk-4gLTH8tXU"
      }
    },
    {
      "cell_type": "markdown",
      "source": [
        "**solution 6**"
      ],
      "metadata": {
        "id": "XtkGUI1U8xJ7"
      }
    },
    {
      "cell_type": "code",
      "source": [
        "def sum_of_digits(n):\n",
        "    # Base case:\n",
        "    if n < 10:\n",
        "        return n\n",
        "    # Recursive case:\n",
        "    else:\n",
        "        return n % 10 + sum_of_digits(n // 10)\n",
        "\n",
        "# Example usage:\n",
        "print(sum_of_digits(123))\n"
      ],
      "metadata": {
        "colab": {
          "base_uri": "https://localhost:8080/"
        },
        "id": "I4eYbWih82ue",
        "outputId": "0b133e02-69b2-4811-f3c0-b9392dcdbcd4"
      },
      "execution_count": 1,
      "outputs": [
        {
          "output_type": "stream",
          "name": "stdout",
          "text": [
            "6\n"
          ]
        }
      ]
    },
    {
      "cell_type": "markdown",
      "source": [
        "**Problem 7: Fibonacci Series**"
      ],
      "metadata": {
        "id": "-1UmMZTK9C_A"
      }
    },
    {
      "cell_type": "markdown",
      "source": [
        "Write a recursive function to generate the first n numbers of the Fibonacci series.\n",
        "\n",
        "fibonacci_series(6) -> [0, 1, 1, 2, 3, 5]"
      ],
      "metadata": {
        "id": "zCPfRmoo9Gr0"
      }
    },
    {
      "cell_type": "code",
      "source": [
        "def fibonacci_series(n):\n",
        "    if n <= 0:\n",
        "        return []\n",
        "    elif n == 1:\n",
        "        return [0]\n",
        "    elif n == 2:\n",
        "        return [0, 1]\n",
        "    else:\n",
        "\n",
        "        fib_series = fibonacci_series(n - 1)\n",
        "        fib_series.append(fib_series[-1] + fib_series[-2])\n",
        "        return fib_series\n",
        "\n",
        "# Example usage:\n",
        "print(fibonacci_series(6))\n"
      ],
      "metadata": {
        "colab": {
          "base_uri": "https://localhost:8080/"
        },
        "id": "lUVP4gVQ8-d8",
        "outputId": "be726c5b-6391-44bd-dc31-81bc3937e7d8"
      },
      "execution_count": 2,
      "outputs": [
        {
          "output_type": "stream",
          "name": "stdout",
          "text": [
            "[0, 1, 1, 2, 3, 5]\n"
          ]
        }
      ]
    },
    {
      "cell_type": "markdown",
      "source": [
        "**Problem 8 : Subset Sum**"
      ],
      "metadata": {
        "id": "g46lGypz9ZOL"
      }
    },
    {
      "cell_type": "markdown",
      "source": [
        "Given a set of positive integers and a target sum, write a recursive function to determine if there exists a subset\n",
        "of the integers that adds up to the target sum.\n",
        "\n",
        "subset_sum([3, 34, 4, 12, 5, 2], 9) -> True"
      ],
      "metadata": {
        "id": "xOew1D8N9ewi"
      }
    },
    {
      "cell_type": "code",
      "source": [
        "def subset_sum(nums, target_sum):\n",
        "    # Base cases:\n",
        "\n",
        "    if target_sum == 0:\n",
        "        return True\n",
        "\n",
        "    if not nums or target_sum < 0:\n",
        "        return False\n",
        "\n",
        "    # Recursive cases:\n",
        "    return subset_sum(nums[:-1], target_sum - nums[-1]) or subset_sum(nums[:-1], target_sum)\n",
        "\n",
        "# Example usage:\n",
        "print(subset_sum([3, 34, 4, 12, 5, 2], 9))\n"
      ],
      "metadata": {
        "colab": {
          "base_uri": "https://localhost:8080/"
        },
        "id": "R3TA1XsR9c1-",
        "outputId": "0e307bd3-5ad6-4511-c085-7a13dfdd221d"
      },
      "execution_count": 3,
      "outputs": [
        {
          "output_type": "stream",
          "name": "stdout",
          "text": [
            "True\n"
          ]
        }
      ]
    },
    {
      "cell_type": "markdown",
      "source": [
        "**Problem 9: Word Break**"
      ],
      "metadata": {
        "id": "uykKtZiV9net"
      }
    },
    {
      "cell_type": "markdown",
      "source": [
        "Given a non-empty string and a dictionary of words, write a recursive function to determine if the string can be\n",
        "segmented into a space-separated sequence of dictionary words.\n",
        "\n",
        "word_break( leetcode , [ leet , code ]) -> True"
      ],
      "metadata": {
        "id": "BGPoLdWX9rv1"
      }
    },
    {
      "cell_type": "code",
      "source": [
        "def word_break(s, wordDict):\n",
        "    if not s:\n",
        "        return True\n",
        "\n",
        "    for word in wordDict:\n",
        "        if s.startswith(word):\n",
        "\n",
        "            if word_break(s[len(word):], wordDict):\n",
        "                return True\n",
        "    return False\n",
        "\n",
        "# Example usage:\n",
        "print(word_break(\"leetcode\", [\"leet\", \"code\"]))\n"
      ],
      "metadata": {
        "colab": {
          "base_uri": "https://localhost:8080/"
        },
        "id": "Or-yWTac9pko",
        "outputId": "39bfd3fb-e993-45e3-c513-535de4df4ef4"
      },
      "execution_count": 4,
      "outputs": [
        {
          "output_type": "stream",
          "name": "stdout",
          "text": [
            "True\n"
          ]
        }
      ]
    },
    {
      "cell_type": "markdown",
      "source": [
        "**Problem 10 : N-Queens**"
      ],
      "metadata": {
        "id": "yiElHX-49_jl"
      }
    },
    {
      "cell_type": "markdown",
      "source": [
        "Implement a recursive function to solve the N Queens problem, where you have to place N queens on an N×N\n",
        "chessboard in such a way that no two queens threaten each other."
      ],
      "metadata": {
        "id": "sUNeTZ0S-Dw7"
      }
    },
    {
      "cell_type": "markdown",
      "source": [
        "n_queens(4)\n",
        "\n",
        "[\n",
        "\n",
        "[\".Q..\",\n",
        "\n",
        "\"...Q\",\n",
        "\n",
        "\"Q...\",\n",
        "\n",
        "\"..Q.\"],\n",
        "\n",
        "[\"..Q.\",\n",
        "\n",
        "\"Q...\",\n",
        "\n",
        "\"...Q\",\n",
        "\n",
        "\".Q..\"]\n",
        "\n",
        "]"
      ],
      "metadata": {
        "id": "kpMwrviv-FrY"
      }
    },
    {
      "cell_type": "code",
      "source": [
        "def is_safe(board, row, col, n):\n",
        "    # Check if there is a queen in the same column\n",
        "    for i in range(row):\n",
        "        if board[i][col] == 'Q':\n",
        "            return False\n",
        "\n",
        "    # Check upper left diagonal\n",
        "    for i, j in zip(range(row, -1, -1), range(col, -1, -1)):\n",
        "        if board[i][j] == 'Q':\n",
        "            return False\n",
        "\n",
        "    # Check upper right diagonal\n",
        "    for i, j in zip(range(row, -1, -1), range(col, n)):\n",
        "        if board[i][j] == 'Q':\n",
        "            return False\n",
        "\n",
        "    return True\n",
        "\n",
        "def solve_n_queens(n):\n",
        "    def backtrack(row):\n",
        "        if row == n:\n",
        "            result.append([\"\".join(row) for row in board])\n",
        "            return\n",
        "\n",
        "        for col in range(n):\n",
        "            if is_safe(board, row, col, n):\n",
        "                board[row][col] = 'Q'\n",
        "                backtrack(row + 1)\n",
        "                board[row][col] = '.'\n",
        "\n",
        "    board = [['.' for _ in range(n)] for _ in range(n)]\n",
        "    result = []\n",
        "    backtrack(0)\n",
        "    return result\n",
        "\n",
        "# Example usage:\n",
        "print(solve_n_queens(4))\n"
      ],
      "metadata": {
        "colab": {
          "base_uri": "https://localhost:8080/"
        },
        "id": "Wx7Xu58a-Bc4",
        "outputId": "e18c6e0a-d0ca-4b37-b435-a76b071acd85"
      },
      "execution_count": 5,
      "outputs": [
        {
          "output_type": "stream",
          "name": "stdout",
          "text": [
            "[['.Q..', '...Q', 'Q...', '..Q.'], ['..Q.', 'Q...', '...Q', '.Q..']]\n"
          ]
        }
      ]
    }
  ]
}